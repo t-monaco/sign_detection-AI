{
 "cells": [
  {
   "cell_type": "code",
   "execution_count": 1,
   "id": "7355789c-0fcb-4bff-be9f-39316a49adc6",
   "metadata": {
    "scrolled": true
   },
   "outputs": [
    {
     "name": "stdout",
     "output_type": "stream",
     "text": [
      "Collecting opencv-python\n",
      "  Obtaining dependency information for opencv-python from https://files.pythonhosted.org/packages/8a/6f/8aa049b66bcba8b5a4dc872ecfdbcd8603a96704b070fde22222e479c3d7/opencv_python-4.8.0.76-cp37-abi3-macosx_10_16_x86_64.whl.metadata\n",
      "  Downloading opencv_python-4.8.0.76-cp37-abi3-macosx_10_16_x86_64.whl.metadata (19 kB)\n",
      "Collecting pandas\n",
      "  Obtaining dependency information for pandas from https://files.pythonhosted.org/packages/fa/c4/e09a705190d0930c8460257fcb6f2df83be78c82cb2cacd3b9be343d7205/pandas-2.1.0-cp39-cp39-macosx_10_9_x86_64.whl.metadata\n",
      "  Downloading pandas-2.1.0-cp39-cp39-macosx_10_9_x86_64.whl.metadata (18 kB)\n",
      "Collecting numpy>=1.17.0 (from opencv-python)\n",
      "  Obtaining dependency information for numpy>=1.17.0 from https://files.pythonhosted.org/packages/8b/d9/22c304cd123e0a1b7d89213e50ed6ec4b22f07f1117d64d28f81c08be428/numpy-1.25.2-cp39-cp39-macosx_10_9_x86_64.whl.metadata\n",
      "  Downloading numpy-1.25.2-cp39-cp39-macosx_10_9_x86_64.whl.metadata (5.6 kB)\n",
      "Collecting python-dateutil>=2.8.2 (from pandas)\n",
      "  Using cached python_dateutil-2.8.2-py2.py3-none-any.whl (247 kB)\n",
      "Collecting pytz>=2020.1 (from pandas)\n",
      "  Obtaining dependency information for pytz>=2020.1 from https://files.pythonhosted.org/packages/32/4d/aaf7eff5deb402fd9a24a1449a8119f00d74ae9c2efa79f8ef9994261fc2/pytz-2023.3.post1-py2.py3-none-any.whl.metadata\n",
      "  Downloading pytz-2023.3.post1-py2.py3-none-any.whl.metadata (22 kB)\n",
      "Collecting tzdata>=2022.1 (from pandas)\n",
      "  Using cached tzdata-2023.3-py2.py3-none-any.whl (341 kB)\n",
      "Collecting six>=1.5 (from python-dateutil>=2.8.2->pandas)\n",
      "  Using cached six-1.16.0-py2.py3-none-any.whl (11 kB)\n",
      "Using cached opencv_python-4.8.0.76-cp37-abi3-macosx_10_16_x86_64.whl (54.7 MB)\n",
      "Downloading pandas-2.1.0-cp39-cp39-macosx_10_9_x86_64.whl (12.2 MB)\n",
      "\u001b[2K   \u001b[38;2;114;156;31m━━━━━━━━━━━━━━━━━━━━━━━━━━━━━━━━━━━━━━━━\u001b[0m \u001b[32m12.2/12.2 MB\u001b[0m \u001b[31m7.2 MB/s\u001b[0m eta \u001b[36m0:00:00\u001b[0mm eta \u001b[36m0:00:01\u001b[0m0:01\u001b[0m:01\u001b[0m\n",
      "\u001b[?25hDownloading numpy-1.25.2-cp39-cp39-macosx_10_9_x86_64.whl (20.8 MB)\n",
      "\u001b[2K   \u001b[38;2;114;156;31m━━━━━━━━━━━━━━━━━━━━━━━━━━━━━━━━━━━━━━━━\u001b[0m \u001b[32m20.8/20.8 MB\u001b[0m \u001b[31m2.8 MB/s\u001b[0m eta \u001b[36m0:00:00\u001b[0mm eta \u001b[36m0:00:01\u001b[0m[36m0:00:01\u001b[0m\n",
      "\u001b[?25hUsing cached pytz-2023.3.post1-py2.py3-none-any.whl (502 kB)\n",
      "Installing collected packages: pytz, tzdata, six, numpy, python-dateutil, opencv-python, pandas\n",
      "Successfully installed numpy-1.25.2 opencv-python-4.8.0.76 pandas-2.1.0 python-dateutil-2.8.2 pytz-2023.3.post1 six-1.16.0 tzdata-2023.3\n"
     ]
    }
   ],
   "source": [
    "!pip3 install opencv-python pandas"
   ]
  },
  {
   "cell_type": "code",
   "execution_count": 1,
   "id": "e2f4bf49-e8cd-4f63-8d52-e77d7bcba046",
   "metadata": {},
   "outputs": [],
   "source": [
    "import cv2\n",
    "import os\n",
    "import time\n",
    "import uuid"
   ]
  },
  {
   "cell_type": "code",
   "execution_count": 2,
   "id": "358b9e3f-d0f1-4b9a-8080-9fa00dca772f",
   "metadata": {},
   "outputs": [],
   "source": [
    "WORKSPACE_PATH = 'Tensorflow/workspace'\n",
    "IMAGES_PATH = f'{WORKSPACE_PATH}/images/collected_images'\n",
    "IMAGES_PATH_TRAIN = f'{WORKSPACE_PATH}/images/train'\n",
    "IMAGES_PATH_TEST = f'{WORKSPACE_PATH}/images/test'"
   ]
  },
  {
   "cell_type": "code",
   "execution_count": 4,
   "id": "ddd04aab-46f5-497a-8395-cf7535027194",
   "metadata": {},
   "outputs": [],
   "source": [
    "labels = ['hello', 'thanks', 'yes', 'no', 'iloveyou']\n",
    "number_imgs = 15"
   ]
  },
  {
   "cell_type": "markdown",
   "id": "493426d2-b8fd-4399-a30e-519adf15cc9b",
   "metadata": {},
   "source": [
    "### Capture images"
   ]
  },
  {
   "cell_type": "code",
   "execution_count": 6,
   "id": "acd76495-52f8-4a95-b346-b4e0088a0411",
   "metadata": {
    "scrolled": true
   },
   "outputs": [
    {
     "name": "stdin",
     "output_type": "stream",
     "text": [
      "Do you want to collect images? (yes/no) no\n"
     ]
    }
   ],
   "source": [
    "valid_ans = ['yes', 'no']\n",
    "\n",
    "collect_images = ''\n",
    "\n",
    "while collect_images.lower() not in valid_ans:\n",
    "    collect_images = input('Do you want to collect images? (yes/no)')\n",
    "\n",
    "if collect_images == 'yes':\n",
    "    for label in labels:\n",
    "        !mkdir {IMAGES_PATH+'/'+label}\n",
    "        cap = cv2.VideoCapture(0)\n",
    "        print(f'Collecting images for {label}!')\n",
    "        time.sleep(5)\n",
    "        for imgnum in range(number_imgs):\n",
    "            ret, frame = cap.read()\n",
    "            image_name = os.path.join(IMAGES_PATH, label, f'{label}.{str(uuid.uuid1())}.jpg')\n",
    "            cv2.imwrite(image_name, frame)\n",
    "            cv2.imshow('frame', frame)\n",
    "            time.sleep(2)\n",
    "    \n",
    "            if cv2.waitKey(1) & 0xFF == ord('q'):\n",
    "                break\n",
    "\n",
    "        cap.release()\n",
    "    cv2.destroyAllWindows()"
   ]
  },
  {
   "cell_type": "code",
   "execution_count": 7,
   "id": "28a6e112-2efe-43b5-b5d9-badc5314d032",
   "metadata": {},
   "outputs": [],
   "source": [
    "# Moved captured images to IMAGES_PATH root directory\n",
    "\n",
    "# for label in labels:\n",
    "#     !cd {IMAGES_PATH} && mv ./{label}/* ./"
   ]
  },
  {
   "cell_type": "markdown",
   "id": "27b82048-5c26-4362-94b4-91ab3ee0d664",
   "metadata": {},
   "source": [
    "### Split images"
   ]
  },
  {
   "cell_type": "markdown",
   "id": "50e8b4db-3d51-4f0d-a192-dc28b27065dd",
   "metadata": {},
   "source": [
    "#### Training set"
   ]
  },
  {
   "cell_type": "code",
   "execution_count": 5,
   "id": "eeb9b77b-95a4-4f18-b103-46bcab837d6e",
   "metadata": {},
   "outputs": [
    {
     "name": "stdout",
     "output_type": "stream",
     "text": [
      "mv: rename Tensorflow/workspace/images/collected_images/thanks.abfad0f2-4c95-11ee-87bb-38f9d330045e.xml to Tensorflow/workspace/images/train/thanks.abfad0f2-4c95-11ee-87bb-38f9d330045e.xml: No such file or directory\n",
      "mv: rename Tensorflow/workspace/images/collected_images/thanks.b8446d8c-4c95-11ee-87bb-38f9d330045e.xml to Tensorflow/workspace/images/train/thanks.b8446d8c-4c95-11ee-87bb-38f9d330045e.xml: No such file or directory\n",
      "mv: rename Tensorflow/workspace/images/collected_images/yes.ce6833dc-4c95-11ee-87bb-38f9d330045e.xml to Tensorflow/workspace/images/train/yes.ce6833dc-4c95-11ee-87bb-38f9d330045e.xml: No such file or directory\n",
      "mv: rename Tensorflow/workspace/images/collected_images/iloveyou.f5b6e7e4-4c95-11ee-87bb-38f9d330045e.xml to Tensorflow/workspace/images/train/iloveyou.f5b6e7e4-4c95-11ee-87bb-38f9d330045e.xml: No such file or directory\n",
      "mv: rename Tensorflow/workspace/images/collected_images/iloveyou.faa158ca-4c95-11ee-87bb-38f9d330045e.xml to Tensorflow/workspace/images/train/iloveyou.faa158ca-4c95-11ee-87bb-38f9d330045e.xml: No such file or directory\n",
      "mv: rename Tensorflow/workspace/images/collected_images/iloveyou.fbdc17c0-4c95-11ee-87bb-38f9d330045e.xml to Tensorflow/workspace/images/train/iloveyou.fbdc17c0-4c95-11ee-87bb-38f9d330045e.xml: No such file or directory\n"
     ]
    }
   ],
   "source": [
    "for label in labels:\n",
    "    IMG_LIST = [img for img in os.listdir(IMAGES_PATH) if img.startswith(label) and img.endswith('.jpg')]\n",
    "\n",
    "    for img in IMG_LIST[:-3]: # moving all images except the last three. I can also use range and an if statement\n",
    "        img_annotation = img.replace('.jpg', '.xml')\n",
    "\n",
    "        !mv {IMAGES_PATH+'/'+img} {IMAGES_PATH_TRAIN+'/'+img}\n",
    "        !mv {IMAGES_PATH+'/'+img_annotation} {IMAGES_PATH_TRAIN+'/'+img_annotation}"
   ]
  },
  {
   "cell_type": "markdown",
   "id": "155a05c7-1431-4205-a1f5-f244f0d4591d",
   "metadata": {},
   "source": [
    "#### Test set"
   ]
  },
  {
   "cell_type": "code",
   "execution_count": 6,
   "id": "493f4d91-15bf-4711-b74e-dc5a043001c4",
   "metadata": {},
   "outputs": [
    {
     "name": "stdout",
     "output_type": "stream",
     "text": [
      "mv: rename Tensorflow/workspace/images/collected_images/hello.a362a122-4c95-11ee-87bb-38f9d330045e.xml to Tensorflow/workspace/images/test/hello.a362a122-4c95-11ee-87bb-38f9d330045e.xml: No such file or directory\n",
      "mv: rename Tensorflow/workspace/images/collected_images/thanks.b0e4c604-4c95-11ee-87bb-38f9d330045e.xml to Tensorflow/workspace/images/test/thanks.b0e4c604-4c95-11ee-87bb-38f9d330045e.xml: No such file or directory\n",
      "mv: rename Tensorflow/workspace/images/collected_images/iloveyou.f966d034-4c95-11ee-87bb-38f9d330045e.xml to Tensorflow/workspace/images/test/iloveyou.f966d034-4c95-11ee-87bb-38f9d330045e.xml: No such file or directory\n"
     ]
    }
   ],
   "source": [
    "for label in labels:\n",
    "    IMG_LIST = [img for img in os.listdir(IMAGES_PATH) if img.startswith(label) and img.endswith('.jpg')]\n",
    "\n",
    "    for img in IMG_LIST:\n",
    "        img_annotation = img.replace('.jpg', '.xml')\n",
    "\n",
    "        !mv {IMAGES_PATH+'/'+img} {IMAGES_PATH_TEST+'/'+img}\n",
    "        !mv {IMAGES_PATH+'/'+img_annotation} {IMAGES_PATH_TEST+'/'+img_annotation}"
   ]
  }
 ],
 "metadata": {
  "kernelspec": {
   "display_name": "signDetection2",
   "language": "python",
   "name": "signdetection2"
  },
  "language_info": {
   "codemirror_mode": {
    "name": "ipython",
    "version": 3
   },
   "file_extension": ".py",
   "mimetype": "text/x-python",
   "name": "python",
   "nbconvert_exporter": "python",
   "pygments_lexer": "ipython3",
   "version": "3.9.17"
  },
  "widgets": {
   "application/vnd.jupyter.widget-state+json": {
    "state": {},
    "version_major": 2,
    "version_minor": 0
   }
  }
 },
 "nbformat": 4,
 "nbformat_minor": 5
}
