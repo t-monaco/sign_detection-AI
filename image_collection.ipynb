{
 "cells": [
  {
   "cell_type": "code",
   "execution_count": 4,
   "id": "7355789c-0fcb-4bff-be9f-39316a49adc6",
   "metadata": {
    "collapsed": true,
    "jupyter": {
     "outputs_hidden": true
    },
    "scrolled": true
   },
   "outputs": [
    {
     "name": "stdout",
     "output_type": "stream",
     "text": [
      "Collecting opencv-python\n",
      "  Using cached opencv_python-4.8.0.76-cp37-abi3-macosx_10_16_x86_64.whl (54.7 MB)\n",
      "Requirement already satisfied: numpy>=1.21.2 in ./venv/signDetection/lib/python3.11/site-packages (from opencv-python) (1.24.3)\n",
      "Installing collected packages: opencv-python\n",
      "Successfully installed opencv-python-4.8.0.76\n",
      "\n",
      "\u001b[1m[\u001b[0m\u001b[34;49mnotice\u001b[0m\u001b[1;39;49m]\u001b[0m\u001b[39;49m A new release of pip is available: \u001b[0m\u001b[31;49m23.0.1\u001b[0m\u001b[39;49m -> \u001b[0m\u001b[32;49m23.2.1\u001b[0m\n",
      "\u001b[1m[\u001b[0m\u001b[34;49mnotice\u001b[0m\u001b[1;39;49m]\u001b[0m\u001b[39;49m To update, run: \u001b[0m\u001b[32;49mpip install --upgrade pip\u001b[0m\n"
     ]
    }
   ],
   "source": [
    "!pip3 install opencv-python"
   ]
  },
  {
   "cell_type": "code",
   "execution_count": 2,
   "id": "e2f4bf49-e8cd-4f63-8d52-e77d7bcba046",
   "metadata": {},
   "outputs": [],
   "source": [
    "import cv2\n",
    "import os\n",
    "import time\n",
    "import uuid"
   ]
  },
  {
   "cell_type": "code",
   "execution_count": 3,
   "id": "358b9e3f-d0f1-4b9a-8080-9fa00dca772f",
   "metadata": {},
   "outputs": [],
   "source": [
    "WORKSPACE_PATH = 'Tensorflow/workspace'\n",
    "IMAGES_PATH = f'{WORKSPACE_PATH}/images/collected_images'"
   ]
  },
  {
   "cell_type": "code",
   "execution_count": 4,
   "id": "ddd04aab-46f5-497a-8395-cf7535027194",
   "metadata": {},
   "outputs": [],
   "source": [
    "labels = ['hello', 'thanks', 'yes', 'no', 'iloveyou']\n",
    "number_imgs = 15"
   ]
  },
  {
   "cell_type": "markdown",
   "id": "493426d2-b8fd-4399-a30e-519adf15cc9b",
   "metadata": {},
   "source": [
    "### Capture images"
   ]
  },
  {
   "cell_type": "code",
   "execution_count": 11,
   "id": "acd76495-52f8-4a95-b346-b4e0088a0411",
   "metadata": {
    "scrolled": true
   },
   "outputs": [
    {
     "name": "stdin",
     "output_type": "stream",
     "text": [
      "Do you want to collect images? (yes/no) no\n"
     ]
    }
   ],
   "source": [
    "valid_ans = ['yes', 'no']\n",
    "\n",
    "collect_images = ''\n",
    "\n",
    "while collect_images.lower() not in valid_ans:\n",
    "    collect_images = input('Do you want to collect images? (yes/no)')\n",
    "\n",
    "if collect_images == 'yes':\n",
    "    for label in labels:\n",
    "        !mkdir {IMAGES_PATH+'/'+label}\n",
    "        cap = cv2.VideoCapture(0)\n",
    "        print(f'Collecting images for {label}!')\n",
    "        time.sleep(5)\n",
    "        for imgnum in range(number_imgs):\n",
    "            ret, frame = cap.read()\n",
    "            image_name = os.path.join(IMAGES_PATH, label, f'{label}.{str(uuid.uuid1())}.jpg')\n",
    "            cv2.imwrite(image_name, frame)\n",
    "            cv2.imshow('frame', frame)\n",
    "            time.sleep(2)\n",
    "    \n",
    "            if cv2.waitKey(1) & 0xFF == ord('q'):\n",
    "                break\n",
    "\n",
    "        cap.release()\n",
    "    cv2.destroyAllWindows()"
   ]
  },
  {
   "cell_type": "code",
   "execution_count": 20,
   "id": "28a6e112-2efe-43b5-b5d9-badc5314d032",
   "metadata": {},
   "outputs": [],
   "source": [
    "# Moved captured images to IMAGES_PATH root directory\n",
    "\n",
    "# for label in labels:\n",
    "#     !cd {IMAGES_PATH} && mv ./{label}/* ./"
   ]
  },
  {
   "cell_type": "code",
   "execution_count": null,
   "id": "19f80b20-1216-4cff-8c78-e2584365dc48",
   "metadata": {},
   "outputs": [],
   "source": []
  }
 ],
 "metadata": {
  "kernelspec": {
   "display_name": "signDetection",
   "language": "python",
   "name": "signdetection"
  },
  "language_info": {
   "codemirror_mode": {
    "name": "ipython",
    "version": 3
   },
   "file_extension": ".py",
   "mimetype": "text/x-python",
   "name": "python",
   "nbconvert_exporter": "python",
   "pygments_lexer": "ipython3",
   "version": "3.11.4"
  }
 },
 "nbformat": 4,
 "nbformat_minor": 5
}
