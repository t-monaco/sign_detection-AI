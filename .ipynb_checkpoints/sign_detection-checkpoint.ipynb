{
 "cells": [
  {
   "cell_type": "markdown",
   "id": "0cf44a14-a8b3-499d-a9ac-eb28cbd652aa",
   "metadata": {},
   "source": [
    "# 0. Setup Paths"
   ]
  },
  {
   "cell_type": "code",
   "execution_count": 1,
   "id": "5896613f-2782-4e52-bdae-a759887c2878",
   "metadata": {},
   "outputs": [],
   "source": [
    "WORKSPACE_PATH = 'Tensorflow/workspace'\n",
    "SCRIPTS_PATH = 'Tensorflow/scripts'\n",
    "APIMODEL_PATH = 'Tensorflow/models'\n",
    "ANNOTATION_PATH = f'{WORKSPACE_PATH}/annotations'\n",
    "IMAGE_PATH = f'{WORKSPACE_PATH}/images'\n",
    "MODEL_PATH = f'{WORKSPACE_PATH}/models'\n",
    "PRETRAINED_MODEL_PATH = f'{WORKSPACE_PATH}/pre_trained_models'\n",
    "CONFIG_PATH = f'{MODEL_PATH}/my_ssd_mobnet/pipeline.config'\n",
    "CHECKPOINTS_PATH = f'{MODEL_PATH}/my_ssd_mobnet'"
   ]
  },
  {
   "cell_type": "markdown",
   "id": "6096f9e1-2044-418b-a88d-4227ab38b7b7",
   "metadata": {},
   "source": [
    "# 1. Create Labels Map"
   ]
  },
  {
   "cell_type": "code",
   "execution_count": 2,
   "id": "27a4f8c3-72cb-4cfa-a448-283db7b4d9bb",
   "metadata": {},
   "outputs": [],
   "source": [
    "labels = [\n",
    "    {'name': 'Hello', 'id': 1},\n",
    "    {'name': 'Thank You', 'id': 2},\n",
    "    {'name': 'I Love You', 'id': 3},\n",
    "    {'name': 'Yes', 'id': 4},\n",
    "    {'name': 'No', 'id': 5}\n",
    "]"
   ]
  },
  {
   "cell_type": "code",
   "execution_count": null,
   "id": "afc73b93-1ffb-4702-9fcc-576bcb789c7c",
   "metadata": {},
   "outputs": [],
   "source": []
  }
 ],
 "metadata": {
  "kernelspec": {
   "display_name": "signDetection",
   "language": "python",
   "name": "signdetection"
  },
  "language_info": {
   "codemirror_mode": {
    "name": "ipython",
    "version": 3
   },
   "file_extension": ".py",
   "mimetype": "text/x-python",
   "name": "python",
   "nbconvert_exporter": "python",
   "pygments_lexer": "ipython3",
   "version": "3.11.4"
  }
 },
 "nbformat": 4,
 "nbformat_minor": 5
}
