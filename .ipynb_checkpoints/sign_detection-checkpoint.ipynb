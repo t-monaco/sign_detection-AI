{
 "cells": [
  {
   "cell_type": "markdown",
   "id": "0cf44a14-a8b3-499d-a9ac-eb28cbd652aa",
   "metadata": {},
   "source": [
    "# 0. Setup Paths"
   ]
  },
  {
   "cell_type": "code",
   "execution_count": 1,
   "id": "5896613f-2782-4e52-bdae-a759887c2878",
   "metadata": {},
   "outputs": [],
   "source": [
    "WORKSPACE_PATH = 'Tensorflow/workspace'\n",
    "SCRIPTS_PATH = 'Tensorflow/scripts'\n",
    "APIMODEL_PATH = 'Tensorflow/models'\n",
    "ANNOTATION_PATH = f'{WORKSPACE_PATH}/annotations'\n",
    "IMAGE_PATH = f'{WORKSPACE_PATH}/images'\n",
    "MODEL_PATH = f'{WORKSPACE_PATH}/models'\n",
    "PRETRAINED_MODEL_PATH = f'{WORKSPACE_PATH}/pre_trained_models'\n",
    "CONFIG_PATH = f'{MODEL_PATH}/my_ssd_mobnet/pipeline.config'\n",
    "CHECKPOINTS_PATH = f'{MODEL_PATH}/my_ssd_mobnet'"
   ]
  },
  {
   "cell_type": "markdown",
   "id": "6096f9e1-2044-418b-a88d-4227ab38b7b7",
   "metadata": {},
   "source": [
    "# 1. Create Labels Map"
   ]
  },
  {
   "cell_type": "code",
   "execution_count": 3,
   "id": "27a4f8c3-72cb-4cfa-a448-283db7b4d9bb",
   "metadata": {},
   "outputs": [],
   "source": [
    "labels = [\n",
    "    {'name': 'Hello', 'id': 1},\n",
    "    {'name': 'Thank You', 'id': 2},\n",
    "    {'name': 'I Love You', 'id': 3},\n",
    "    {'name': 'Yes', 'id': 4},\n",
    "    {'name': 'No', 'id': 5}\n",
    "]"
   ]
  },
  {
   "cell_type": "code",
   "execution_count": 7,
   "id": "afc73b93-1ffb-4702-9fcc-576bcb789c7c",
   "metadata": {},
   "outputs": [],
   "source": [
    "with open(ANNOTATION_PATH + '/label_map.pbtxt', 'w') as f:\n",
    "    for label in labels:\n",
    "        f.write('item:{\\n')\n",
    "        f.write('\\tname:\\'{}\\'\\n'.format(label['name']))\n",
    "        f.write('\\tid:{}\\n'.format(label['id']))\n",
    "        f.write('}\\n')"
   ]
  },
  {
   "cell_type": "markdown",
   "id": "a49b00b8-79b4-441a-ae2b-1ccd51251e34",
   "metadata": {},
   "source": [
    "# 2. Create TF Records"
   ]
  },
  {
   "cell_type": "code",
   "execution_count": 13,
   "id": "ff27372e-d53f-41a5-9f6c-1cbc314eb5ec",
   "metadata": {},
   "outputs": [
    {
     "ename": "ModuleNotFoundError",
     "evalue": "No module named 'pandas'",
     "output_type": "error",
     "traceback": [
      "\u001b[0;31m---------------------------------------------------------------------------\u001b[0m",
      "\u001b[0;31mModuleNotFoundError\u001b[0m                       Traceback (most recent call last)",
      "Cell \u001b[0;32mIn[13], line 2\u001b[0m\n\u001b[1;32m      1\u001b[0m \u001b[38;5;28;01mimport\u001b[39;00m \u001b[38;5;21;01mos\u001b[39;00m\n\u001b[0;32m----> 2\u001b[0m \u001b[38;5;28;01mimport\u001b[39;00m \u001b[38;5;21;01mpandas\u001b[39;00m \u001b[38;5;28;01mas\u001b[39;00m \u001b[38;5;21;01mpd\u001b[39;00m\n",
      "\u001b[0;31mModuleNotFoundError\u001b[0m: No module named 'pandas'"
     ]
    }
   ],
   "source": [
    "import os"
   ]
  },
  {
   "cell_type": "code",
   "execution_count": 12,
   "id": "9e4da46c-13e2-4a64-8d83-e20ba116f067",
   "metadata": {},
   "outputs": [
    {
     "name": "stdout",
     "output_type": "stream",
     "text": [
      "Traceback (most recent call last):\n",
      "  File \"/Users/tomasmonaco/proyectos/machine_learning/ml-tut-signDetectionTensorflowJS/Tensorflow/scripts/generate_tfrecord.py\", line 21, in <module>\n",
      "    import pandas as pd\n",
      "ModuleNotFoundError: No module named 'pandas'\n",
      "Traceback (most recent call last):\n",
      "  File \"/Users/tomasmonaco/proyectos/machine_learning/ml-tut-signDetectionTensorflowJS/Tensorflow/scripts/generate_tfrecord.py\", line 21, in <module>\n",
      "    import pandas as pd\n",
      "ModuleNotFoundError: No module named 'pandas'\n"
     ]
    }
   ],
   "source": [
    "!python {SCRIPTS_PATH + '/generate_tfrecord.py'} -x {IMAGE_PATH + '/train'} -l {ANNOTATION_PATH + '/label_map.pbtxt'} -o {ANNOTATION_PATH + '/train.record'}\n",
    "!python {SCRIPTS_PATH + '/generate_tfrecord.py'} -x {IMAGE_PATH + '/test'} -l {ANNOTATION_PATH + '/label_map.pbtxt'} -o {ANNOTATION_PATH + '/test.record'}"
   ]
  },
  {
   "cell_type": "code",
   "execution_count": null,
   "id": "4ac83340-e77b-48b3-9f95-d09087077494",
   "metadata": {},
   "outputs": [],
   "source": []
  }
 ],
 "metadata": {
  "kernelspec": {
   "display_name": "signDetection",
   "language": "python",
   "name": "signdetection"
  },
  "language_info": {
   "codemirror_mode": {
    "name": "ipython",
    "version": 3
   },
   "file_extension": ".py",
   "mimetype": "text/x-python",
   "name": "python",
   "nbconvert_exporter": "python",
   "pygments_lexer": "ipython3",
   "version": "3.11.4"
  }
 },
 "nbformat": 4,
 "nbformat_minor": 5
}
