{
 "cells": [
  {
   "cell_type": "markdown",
   "id": "0cf44a14-a8b3-499d-a9ac-eb28cbd652aa",
   "metadata": {},
   "source": [
    "# 0. Setup Paths"
   ]
  },
  {
   "cell_type": "code",
   "execution_count": 1,
   "id": "5896613f-2782-4e52-bdae-a759887c2878",
   "metadata": {},
   "outputs": [],
   "source": [
    "WORKSPACE_PATH = 'Tensorflow/workspace'\n",
    "SCRIPTS_PATH = 'Tensorflow/scripts'\n",
    "APIMODEL_PATH = 'Tensorflow/models'\n",
    "ANNOTATION_PATH = f'{WORKSPACE_PATH}/annotations'\n",
    "IMAGE_PATH = f'{WORKSPACE_PATH}/images'\n",
    "MODEL_PATH = f'{WORKSPACE_PATH}/models'\n",
    "PRETRAINED_MODEL_PATH = f'{WORKSPACE_PATH}/pre_trained_models'\n",
    "CONFIG_PATH = f'{MODEL_PATH}/my_ssd_mobnet/pipeline.config'\n",
    "CHECKPOINTS_PATH = f'{MODEL_PATH}/my_ssd_mobnet'"
   ]
  },
  {
   "cell_type": "markdown",
   "id": "6096f9e1-2044-418b-a88d-4227ab38b7b7",
   "metadata": {},
   "source": [
    "# 1. Create Labels Map"
   ]
  },
  {
   "cell_type": "code",
   "execution_count": 2,
   "id": "27a4f8c3-72cb-4cfa-a448-283db7b4d9bb",
   "metadata": {},
   "outputs": [],
   "source": [
    "labels = [\n",
    "    {'name': 'Hello', 'id': 1},\n",
    "    {'name': 'Thank You', 'id': 2},\n",
    "    {'name': 'I Love You', 'id': 3},\n",
    "    {'name': 'Yes', 'id': 4},\n",
    "    {'name': 'No', 'id': 5}\n",
    "]"
   ]
  },
  {
   "cell_type": "code",
   "execution_count": 3,
   "id": "afc73b93-1ffb-4702-9fcc-576bcb789c7c",
   "metadata": {},
   "outputs": [],
   "source": [
    "with open(ANNOTATION_PATH + '/label_map.pbtxt', 'w') as f:\n",
    "    for label in labels:\n",
    "        f.write('item:{\\n')\n",
    "        f.write('\\tname:\\'{}\\'\\n'.format(label['name']))\n",
    "        f.write('\\tid:{}\\n'.format(label['id']))\n",
    "        f.write('}\\n')"
   ]
  },
  {
   "cell_type": "markdown",
   "id": "bc33ba0c-72f2-4c4c-8ff2-d91971471a88",
   "metadata": {},
   "source": [
    "# 2. Clone Tensoflow pretrained models from Tensorflow Models Zoo"
   ]
  },
  {
   "cell_type": "code",
   "execution_count": 8,
   "id": "06b11842-5ea0-4e7b-a6d2-b5e535bf1184",
   "metadata": {},
   "outputs": [
    {
     "name": "stdout",
     "output_type": "stream",
     "text": [
      "Cloning into 'models'...\n",
      "remote: Enumerating objects: 87400, done.\u001b[K\n",
      "remote: Counting objects: 100% (1154/1154), done.\u001b[K\n",
      "remote: Compressing objects: 100% (529/529), done.\u001b[K\n",
      "remote: Total 87400 (delta 689), reused 1045 (delta 614), pack-reused 86246\u001b[K\n",
      "Receiving objects: 100% (87400/87400), 599.28 MiB | 6.95 MiB/s, done.\n",
      "Resolving deltas: 100% (62563/62563), done.\n",
      "Checking out files: 100% (3599/3599), done.\n"
     ]
    }
   ],
   "source": [
    "!cd Tensorflow && git clone https://github.com/tensorflow/models"
   ]
  },
  {
   "cell_type": "markdown",
   "id": "a49b00b8-79b4-441a-ae2b-1ccd51251e34",
   "metadata": {},
   "source": [
    "# 3. Create TF Records"
   ]
  },
  {
   "cell_type": "code",
   "execution_count": 4,
   "id": "ff27372e-d53f-41a5-9f6c-1cbc314eb5ec",
   "metadata": {},
   "outputs": [],
   "source": [
    "import os"
   ]
  },
  {
   "cell_type": "code",
   "execution_count": 9,
   "id": "9e4da46c-13e2-4a64-8d83-e20ba116f067",
   "metadata": {},
   "outputs": [
    {
     "name": "stdout",
     "output_type": "stream",
     "text": [
      "Traceback (most recent call last):\n",
      "  File \"/Users/tomasmonaco/proyectos/machine_learning/ml-tut-signDetectionTensorflowJS/Tensorflow/scripts/generate_tfrecord.py\", line 29, in <module>\n",
      "    from object_detection.utils import dataset_util, label_map_util\n",
      "ModuleNotFoundError: No module named 'object_detection'\n",
      "Traceback (most recent call last):\n",
      "  File \"/Users/tomasmonaco/proyectos/machine_learning/ml-tut-signDetectionTensorflowJS/Tensorflow/scripts/generate_tfrecord.py\", line 29, in <module>\n",
      "    from object_detection.utils import dataset_util, label_map_util\n",
      "ModuleNotFoundError: No module named 'object_detection'\n"
     ]
    }
   ],
   "source": [
    "!python {SCRIPTS_PATH + '/generate_tfrecord.py'} -x {IMAGE_PATH + '/train'} -l {ANNOTATION_PATH + '/label_map.pbtxt'} -o {ANNOTATION_PATH + '/train.record'}\n",
    "!python {SCRIPTS_PATH + '/generate_tfrecord.py'} -x {IMAGE_PATH + '/test'} -l {ANNOTATION_PATH + '/label_map.pbtxt'} -o {ANNOTATION_PATH + '/test.record'}"
   ]
  },
  {
   "cell_type": "code",
   "execution_count": null,
   "id": "d2edfce9-e94c-4523-a9a4-a3674a4b7469",
   "metadata": {},
   "outputs": [],
   "source": []
  }
 ],
 "metadata": {
  "kernelspec": {
   "display_name": "signDetection",
   "language": "python",
   "name": "signdetection"
  },
  "language_info": {
   "codemirror_mode": {
    "name": "ipython",
    "version": 3
   },
   "file_extension": ".py",
   "mimetype": "text/x-python",
   "name": "python",
   "nbconvert_exporter": "python",
   "pygments_lexer": "ipython3",
   "version": "3.11.4"
  }
 },
 "nbformat": 4,
 "nbformat_minor": 5
}
