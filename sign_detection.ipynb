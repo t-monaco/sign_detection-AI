{
 "cells": [
  {
   "cell_type": "markdown",
   "id": "0cf44a14-a8b3-499d-a9ac-eb28cbd652aa",
   "metadata": {},
   "source": [
    "# 0. Setup Paths"
   ]
  },
  {
   "cell_type": "code",
   "execution_count": 34,
   "id": "5896613f-2782-4e52-bdae-a759887c2878",
   "metadata": {},
   "outputs": [],
   "source": [
    "WORKSPACE_PATH = 'Tensorflow/workspace'\n",
    "SCRIPTS_PATH = 'Tensorflow/scripts'\n",
    "APIMODEL_PATH = 'Tensorflow/models'\n",
    "ANNOTATION_PATH = f'{WORKSPACE_PATH}/annotations'\n",
    "IMAGE_PATH = f'{WORKSPACE_PATH}/images'\n",
    "MODEL_PATH = f'{WORKSPACE_PATH}/models'\n",
    "PRETRAINED_MODEL_PATH = f'{WORKSPACE_PATH}/pre_trained_models'\n",
    "CONFIG_PATH = f'{MODEL_PATH}/my_ssd_mobnet/pipeline.config'\n",
    "SSD_MOBNET = f'{MODEL_PATH}/my_ssd_mobnet'"
   ]
  },
  {
   "cell_type": "markdown",
   "id": "6096f9e1-2044-418b-a88d-4227ab38b7b7",
   "metadata": {},
   "source": [
    "# 1. Create Labels Map"
   ]
  },
  {
   "cell_type": "code",
   "execution_count": 4,
   "id": "27a4f8c3-72cb-4cfa-a448-283db7b4d9bb",
   "metadata": {},
   "outputs": [],
   "source": [
    "labels = [\n",
    "    {'name': 'Hello', 'id': 1},\n",
    "    {'name': 'Thank You', 'id': 2},\n",
    "    {'name': 'I Love You', 'id': 3},\n",
    "    {'name': 'Yes', 'id': 4},\n",
    "    {'name': 'No', 'id': 5}\n",
    "]"
   ]
  },
  {
   "cell_type": "code",
   "execution_count": 5,
   "id": "afc73b93-1ffb-4702-9fcc-576bcb789c7c",
   "metadata": {},
   "outputs": [],
   "source": [
    "with open(ANNOTATION_PATH + '/label_map.pbtxt', 'w') as f:\n",
    "    for label in labels:\n",
    "        f.write('item { \\n')\n",
    "        f.write('\\tname:\\'{}\\'\\n'.format(label['name']))\n",
    "        f.write('\\tid:{}\\n'.format(label['id']))\n",
    "        f.write('}\\n')"
   ]
  },
  {
   "cell_type": "markdown",
   "id": "bc33ba0c-72f2-4c4c-8ff2-d91971471a88",
   "metadata": {},
   "source": [
    "# 2. Clone Tensoflow pretrained models from Tensorflow Models Zoo"
   ]
  },
  {
   "cell_type": "code",
   "execution_count": 4,
   "id": "06b11842-5ea0-4e7b-a6d2-b5e535bf1184",
   "metadata": {},
   "outputs": [],
   "source": [
    "# !cd Tensorflow && git clone https://github.com/tensorflow/models"
   ]
  },
  {
   "cell_type": "markdown",
   "id": "a49b00b8-79b4-441a-ae2b-1ccd51251e34",
   "metadata": {},
   "source": [
    "# 3. Create TF Records"
   ]
  },
  {
   "cell_type": "code",
   "execution_count": 6,
   "id": "ff27372e-d53f-41a5-9f6c-1cbc314eb5ec",
   "metadata": {},
   "outputs": [],
   "source": [
    "import os"
   ]
  },
  {
   "cell_type": "code",
   "execution_count": 16,
   "id": "9e4da46c-13e2-4a64-8d83-e20ba116f067",
   "metadata": {},
   "outputs": [
    {
     "name": "stdout",
     "output_type": "stream",
     "text": [
      "Successfully created the TFRecord file: Tensorflow/workspace/annotations/train.record\n",
      "Successfully created the TFRecord file: Tensorflow/workspace/annotations/test.record\n"
     ]
    }
   ],
   "source": [
    "!python {SCRIPTS_PATH + '/generate_tfrecord.py'} -x {IMAGE_PATH + '/train'} -l {ANNOTATION_PATH + '/label_map.pbtxt'} -o {ANNOTATION_PATH + '/train.record'}\n",
    "!python {SCRIPTS_PATH + '/generate_tfrecord.py'} -x {IMAGE_PATH + '/test'} -l {ANNOTATION_PATH + '/label_map.pbtxt'} -o {ANNOTATION_PATH + '/test.record'}"
   ]
  },
  {
   "cell_type": "markdown",
   "id": "1f9502d4-9a55-41a5-8250-885d8e4dd967",
   "metadata": {},
   "source": [
    "# 4. Copy Model Config to Training folder"
   ]
  },
  {
   "cell_type": "code",
   "execution_count": 17,
   "id": "b356f8c9-4cb9-4c1c-813f-8ccd0f0f2ae5",
   "metadata": {},
   "outputs": [],
   "source": [
    "CUSTOM_MODEL_NAME = 'my_ssd_mobnet'"
   ]
  },
  {
   "cell_type": "code",
   "execution_count": 4,
   "id": "2fa7c659-6633-4904-bad0-68e8308b64d2",
   "metadata": {},
   "outputs": [
    {
     "name": "stdout",
     "output_type": "stream",
     "text": [
      "mkdir: {MODEL_PATH+: No such file or directory\n"
     ]
    }
   ],
   "source": [
    "!mkdir {MODEL_PATH+'/'+CUSTOM_MODEL_NAME}"
   ]
  },
  {
   "cell_type": "code",
   "execution_count": 5,
   "id": "6bf987f1-2f85-407c-a336-ddbcbf9eeb2a",
   "metadata": {},
   "outputs": [
    {
     "name": "stdout",
     "output_type": "stream",
     "text": [
      "cp: {PRETRAINED_MODEL_PATH+/ssd_mobilenet_v2_fpnlite_320x320_coco17_tpu-8/pipeline.config}: No such file or directory\n"
     ]
    }
   ],
   "source": [
    "!cp {PRETRAINED_MODEL_PATH+'/ssd_mobilenet_v2_fpnlite_320x320_coco17_tpu-8/pipeline.config'} {MODEL_PATH+'/'+CUSTOM_MODEL_NAME}"
   ]
  },
  {
   "cell_type": "markdown",
   "id": "4a17f47e-319f-41e2-bacc-bb25f14e229e",
   "metadata": {},
   "source": [
    "# 5. Update Config for Transfer Learning"
   ]
  },
  {
   "cell_type": "code",
   "execution_count": 7,
   "id": "237b1188-c8c3-4c33-b47b-7be019504bf1",
   "metadata": {},
   "outputs": [],
   "source": [
    "import tensorflow as tf\n",
    "from object_detection.utils import config_util\n",
    "from object_detection.protos import pipeline_pb2\n",
    "from google.protobuf import text_format"
   ]
  },
  {
   "cell_type": "code",
   "execution_count": 9,
   "id": "b5dc1b4a-1888-42e8-a6c7-36f8343e3aa1",
   "metadata": {},
   "outputs": [],
   "source": [
    "config = config_util.get_configs_from_pipeline_file(CONFIG_PATH)"
   ]
  },
  {
   "cell_type": "code",
   "execution_count": 10,
   "id": "2b22aee1-2edd-4afb-8e28-8e7e726736d8",
   "metadata": {
    "collapsed": true,
    "jupyter": {
     "outputs_hidden": true
    },
    "scrolled": true
   },
   "outputs": [
    {
     "data": {
      "text/plain": [
       "{'model': ssd {\n",
       "   num_classes: 5\n",
       "   image_resizer {\n",
       "     fixed_shape_resizer {\n",
       "       height: 320\n",
       "       width: 320\n",
       "     }\n",
       "   }\n",
       "   feature_extractor {\n",
       "     type: \"ssd_mobilenet_v2_fpn_keras\"\n",
       "     depth_multiplier: 1.0\n",
       "     min_depth: 16\n",
       "     conv_hyperparams {\n",
       "       regularizer {\n",
       "         l2_regularizer {\n",
       "           weight: 3.9999998989515007e-05\n",
       "         }\n",
       "       }\n",
       "       initializer {\n",
       "         random_normal_initializer {\n",
       "           mean: 0.0\n",
       "           stddev: 0.009999999776482582\n",
       "         }\n",
       "       }\n",
       "       activation: RELU_6\n",
       "       batch_norm {\n",
       "         decay: 0.996999979019165\n",
       "         scale: true\n",
       "         epsilon: 0.0010000000474974513\n",
       "       }\n",
       "     }\n",
       "     use_depthwise: true\n",
       "     override_base_feature_extractor_hyperparams: true\n",
       "     fpn {\n",
       "       min_level: 3\n",
       "       max_level: 7\n",
       "       additional_layer_depth: 128\n",
       "     }\n",
       "   }\n",
       "   box_coder {\n",
       "     faster_rcnn_box_coder {\n",
       "       y_scale: 10.0\n",
       "       x_scale: 10.0\n",
       "       height_scale: 5.0\n",
       "       width_scale: 5.0\n",
       "     }\n",
       "   }\n",
       "   matcher {\n",
       "     argmax_matcher {\n",
       "       matched_threshold: 0.5\n",
       "       unmatched_threshold: 0.5\n",
       "       ignore_thresholds: false\n",
       "       negatives_lower_than_unmatched: true\n",
       "       force_match_for_each_row: true\n",
       "       use_matmul_gather: true\n",
       "     }\n",
       "   }\n",
       "   similarity_calculator {\n",
       "     iou_similarity {\n",
       "     }\n",
       "   }\n",
       "   box_predictor {\n",
       "     weight_shared_convolutional_box_predictor {\n",
       "       conv_hyperparams {\n",
       "         regularizer {\n",
       "           l2_regularizer {\n",
       "             weight: 3.9999998989515007e-05\n",
       "           }\n",
       "         }\n",
       "         initializer {\n",
       "           random_normal_initializer {\n",
       "             mean: 0.0\n",
       "             stddev: 0.009999999776482582\n",
       "           }\n",
       "         }\n",
       "         activation: RELU_6\n",
       "         batch_norm {\n",
       "           decay: 0.996999979019165\n",
       "           scale: true\n",
       "           epsilon: 0.0010000000474974513\n",
       "         }\n",
       "       }\n",
       "       depth: 128\n",
       "       num_layers_before_predictor: 4\n",
       "       kernel_size: 3\n",
       "       class_prediction_bias_init: -4.599999904632568\n",
       "       share_prediction_tower: true\n",
       "       use_depthwise: true\n",
       "     }\n",
       "   }\n",
       "   anchor_generator {\n",
       "     multiscale_anchor_generator {\n",
       "       min_level: 3\n",
       "       max_level: 7\n",
       "       anchor_scale: 4.0\n",
       "       aspect_ratios: 1.0\n",
       "       aspect_ratios: 2.0\n",
       "       aspect_ratios: 0.5\n",
       "       scales_per_octave: 2\n",
       "     }\n",
       "   }\n",
       "   post_processing {\n",
       "     batch_non_max_suppression {\n",
       "       score_threshold: 9.99999993922529e-09\n",
       "       iou_threshold: 0.6000000238418579\n",
       "       max_detections_per_class: 100\n",
       "       max_total_detections: 100\n",
       "       use_static_shapes: false\n",
       "     }\n",
       "     score_converter: SIGMOID\n",
       "   }\n",
       "   normalize_loss_by_num_matches: true\n",
       "   loss {\n",
       "     localization_loss {\n",
       "       weighted_smooth_l1 {\n",
       "       }\n",
       "     }\n",
       "     classification_loss {\n",
       "       weighted_sigmoid_focal {\n",
       "         gamma: 2.0\n",
       "         alpha: 0.25\n",
       "       }\n",
       "     }\n",
       "     classification_weight: 1.0\n",
       "     localization_weight: 1.0\n",
       "   }\n",
       "   encode_background_as_zeros: true\n",
       "   normalize_loc_loss_by_codesize: true\n",
       "   inplace_batchnorm_update: true\n",
       "   freeze_batchnorm: false\n",
       " },\n",
       " 'train_config': batch_size: 4\n",
       " data_augmentation_options {\n",
       "   random_horizontal_flip {\n",
       "   }\n",
       " }\n",
       " data_augmentation_options {\n",
       "   random_crop_image {\n",
       "     min_object_covered: 0.0\n",
       "     min_aspect_ratio: 0.75\n",
       "     max_aspect_ratio: 3.0\n",
       "     min_area: 0.75\n",
       "     max_area: 1.0\n",
       "     overlap_thresh: 0.0\n",
       "   }\n",
       " }\n",
       " sync_replicas: true\n",
       " optimizer {\n",
       "   momentum_optimizer {\n",
       "     learning_rate {\n",
       "       cosine_decay_learning_rate {\n",
       "         learning_rate_base: 0.07999999821186066\n",
       "         total_steps: 50000\n",
       "         warmup_learning_rate: 0.026666000485420227\n",
       "         warmup_steps: 1000\n",
       "       }\n",
       "     }\n",
       "     momentum_optimizer_value: 0.8999999761581421\n",
       "   }\n",
       "   use_moving_average: false\n",
       " }\n",
       " fine_tune_checkpoint: \"Tensorflow/workspace/pre_trained_models/ssd_mobilenet_v2_fpnlite_320x320_coco17_tpu-8/checkpoint/ckpt-0\"\n",
       " num_steps: 50000\n",
       " startup_delay_steps: 0.0\n",
       " replicas_to_aggregate: 8\n",
       " max_number_of_boxes: 100\n",
       " unpad_groundtruth_tensors: false\n",
       " fine_tune_checkpoint_type: \"detection\"\n",
       " fine_tune_checkpoint_version: V2,\n",
       " 'train_input_config': label_map_path: \"Tensorflow/workspace/annotations/label_map.pbtxt\"\n",
       " tf_record_input_reader {\n",
       "   input_path: \"Tensorflow/workspace/annotations/train.record\"\n",
       " },\n",
       " 'eval_config': metrics_set: \"coco_detection_metrics\"\n",
       " use_moving_averages: false,\n",
       " 'eval_input_configs': [label_map_path: \"Tensorflow/workspace/annotations/label_map.pbtxt\"\n",
       " shuffle: false\n",
       " num_epochs: 1\n",
       " tf_record_input_reader {\n",
       "   input_path: \"Tensorflow/workspace/annotations/test.record\"\n",
       " }\n",
       " ],\n",
       " 'eval_input_config': label_map_path: \"Tensorflow/workspace/annotations/label_map.pbtxt\"\n",
       " shuffle: false\n",
       " num_epochs: 1\n",
       " tf_record_input_reader {\n",
       "   input_path: \"Tensorflow/workspace/annotations/test.record\"\n",
       " }}"
      ]
     },
     "execution_count": 10,
     "metadata": {},
     "output_type": "execute_result"
    }
   ],
   "source": [
    "config"
   ]
  },
  {
   "cell_type": "code",
   "execution_count": 19,
   "id": "012273e6-15e2-45c9-ab3e-d62b4ee7e0f1",
   "metadata": {},
   "outputs": [],
   "source": [
    "pipeline_config = pipeline_pb2.TrainEvalPipelineConfig()\n",
    "with tf.io.gfile.GFile(CONFIG_PATH, 'r') as f:\n",
    "    proto_str = f.read()\n",
    "    text_format.Merge(proto_str, pipeline_config)"
   ]
  },
  {
   "cell_type": "code",
   "execution_count": 20,
   "id": "6b1d29c0-8ccb-4c79-84c2-a9aed39c8448",
   "metadata": {},
   "outputs": [],
   "source": [
    "pipeline_config.model.ssd.num_classes = 5\n",
    "pipeline_config.train_config.batch_size = 4\n",
    "pipeline_config.train_config.fine_tune_checkpoint = PRETRAINED_MODEL_PATH+'/ssd_mobilenet_v2_fpnlite_320x320_coco17_tpu-8/checkpoint/ckpt-0'\n",
    "pipeline_config.train_config.fine_tune_checkpoint_type = \"detection\"\n",
    "pipeline_config.train_input_reader.label_map_path= ANNOTATION_PATH + '/label_map.pbtxt'\n",
    "pipeline_config.train_input_reader.tf_record_input_reader.input_path[:] = [ANNOTATION_PATH + '/train.record']\n",
    "pipeline_config.eval_input_reader[0].label_map_path = ANNOTATION_PATH + '/label_map.pbtxt'\n",
    "pipeline_config.eval_input_reader[0].tf_record_input_reader.input_path[:] = [ANNOTATION_PATH + '/test.record']"
   ]
  },
  {
   "cell_type": "code",
   "execution_count": 21,
   "id": "1bf03e21-223b-4d2e-9428-6e3d101bc205",
   "metadata": {},
   "outputs": [],
   "source": [
    "config_text = text_format.MessageToString(pipeline_config)\n",
    "with tf.io.gfile.GFile(CONFIG_PATH, 'wb') as f:\n",
    "    f.write(config_text)"
   ]
  },
  {
   "cell_type": "markdown",
   "id": "28b2067d-3922-497a-8a14-288b0d2aa74b",
   "metadata": {},
   "source": [
    "# 6. Train the model"
   ]
  },
  {
   "cell_type": "code",
   "execution_count": 17,
   "id": "8ef9b881-2aff-4c85-8a88-a1102f9928ba",
   "metadata": {},
   "outputs": [
    {
     "name": "stdout",
     "output_type": "stream",
     "text": [
      "python Tensorflow/models/research/object_detection/model_main_tf2.py --model_dir=Tensorflow/workspace/models/my_ssd_mobnet --pipeline_config_path=Tensorflow/workspace/models/my_ssd_mobnet/pipeline.config --num_train_steps=5000\n"
     ]
    }
   ],
   "source": [
    "print(\"\"\"python {}/research/object_detection/model_main_tf2.py --model_dir={}/{} --pipeline_config_path={}/{}/pipeline.config --num_train_steps=5000\"\"\".format(APIMODEL_PATH, MODEL_PATH,CUSTOM_MODEL_NAME,MODEL_PATH,CUSTOM_MODEL_NAME))\n"
   ]
  },
  {
   "cell_type": "markdown",
   "id": "7f399a9c-5db1-404d-8436-18243b4da770",
   "metadata": {},
   "source": [
    "# 7. Load Train Model from checkpoint"
   ]
  },
  {
   "cell_type": "code",
   "execution_count": 11,
   "id": "8dae570a-fb1f-42ae-b089-a97b3c70a433",
   "metadata": {},
   "outputs": [],
   "source": [
    "import os\n",
    "from object_detection.utils import label_map_util\n",
    "from object_detection.utils import visualization_utils as viz_utils\n",
    "from object_detection.builders import model_builder"
   ]
  },
  {
   "cell_type": "code",
   "execution_count": 35,
   "id": "3c8aa913-7604-4f1c-86f8-9b25aa1f8e49",
   "metadata": {},
   "outputs": [],
   "source": [
    "# Load pipeline config and build a detection model\n",
    "configs = config_util.get_configs_from_pipeline_file(CONFIG_PATH)\n",
    "detection_model = model_builder.build(model_config=configs['model'], is_training=False)\n",
    "\n",
    "# Restore checkpoint\n",
    "ckpt = tf.compat.v2.train.Checkpoint(model=detection_model)\n",
    "ckpt.restore(os.path.join(SSD_MOBNET, 'ckpt-11')).expect_partial()\n",
    "\n",
    "@tf.function\n",
    "def detect_fn(image):\n",
    "    image, shapes = detection_model.preprocess(image)\n",
    "    prediction_dict = detection_model.predict(image, shapes)\n",
    "    detections = detection_model.postprocess(prediction_dict, shapes)\n",
    "    return detections"
   ]
  },
  {
   "cell_type": "markdown",
   "id": "5648d4fc-b376-4f35-aa95-a0c348b6cad5",
   "metadata": {},
   "source": [
    "# 8. Detect in Real Time"
   ]
  },
  {
   "cell_type": "code",
   "execution_count": 30,
   "id": "b0269131-1444-4ae3-8ac2-8096f2e552e6",
   "metadata": {},
   "outputs": [],
   "source": [
    "import cv2 \n",
    "import numpy as np"
   ]
  },
  {
   "cell_type": "code",
   "execution_count": 31,
   "id": "693e1d33-b877-4549-9b1c-e4538ae09c14",
   "metadata": {},
   "outputs": [],
   "source": [
    "category_index = label_map_util.create_category_index_from_labelmap(ANNOTATION_PATH+'/label_map.pbtxt')"
   ]
  },
  {
   "cell_type": "code",
   "execution_count": 32,
   "id": "dd9353da-df30-4fcd-9bbf-b63165555275",
   "metadata": {},
   "outputs": [],
   "source": [
    "cap = cv2.VideoCapture(0)\n",
    "width = int(cap.get(cv2.CAP_PROP_FRAME_WIDTH))\n",
    "height = int(cap.get(cv2.CAP_PROP_FRAME_HEIGHT))"
   ]
  },
  {
   "cell_type": "code",
   "execution_count": 33,
   "id": "a37fc0f5-e90e-4476-a4fd-cbba5e748a01",
   "metadata": {},
   "outputs": [],
   "source": [
    "while True:\n",
    "    ret, frame = cap.read()\n",
    "    image_np = np.array(frame)\n",
    "\n",
    "    input_tensor = tf.convert_to_tensor(np.expand_dims(image_np, 0), dtype=tf.float32)\n",
    "    detections = detect_fn(input_tensor)\n",
    "    \n",
    "    num_detections = int(detections.pop('num_detections'))\n",
    "    detections = {key: value[0, :num_detections].numpy() for key, value in detections.items()}\n",
    "\n",
    "    detections['num_detections'] = num_detections\n",
    "    \n",
    "    # detections classes as INT\n",
    "    detections['detection_classes'] = detections['detection_classes'].astype(np.int64)\n",
    "\n",
    "    label_id_offset = 1\n",
    "    image_np_with_detections = image_np.copy()\n",
    "\n",
    "    viz_utils.visualize_boxes_and_labels_on_image_array(\n",
    "                image_np_with_detections,\n",
    "                detections['detection_boxes'],\n",
    "                detections['detection_classes']+label_id_offset,\n",
    "                detections['detection_scores'],\n",
    "                category_index,\n",
    "                use_normalized_coordinates=True,\n",
    "                max_boxes_to_draw=1,\n",
    "                min_score_thresh=.05,\n",
    "                agnostic_mode=False)\n",
    "\n",
    "    cv2.imshow('object detection',  image_np_with_detections)\n",
    "    \n",
    "    if cv2.waitKey(1) & 0xFF == ord('q'):\n",
    "        cap.release()\n",
    "        break\n",
    "\n",
    "cv2.destroyAllWindows()\n",
    "cap.release()"
   ]
  },
  {
   "cell_type": "markdown",
   "id": "186323e1-ba7f-4601-b2b0-f416d7347860",
   "metadata": {},
   "source": [
    "# 9. Save Graph"
   ]
  },
  {
   "cell_type": "code",
   "execution_count": 37,
   "id": "d93e2213-2d51-4075-804d-f6c4b6b8409e",
   "metadata": {},
   "outputs": [],
   "source": [
    "!mkdir {SSD_MOBNET+'/export'} && mkdir {SSD_MOBNET+'/converted'}"
   ]
  },
  {
   "cell_type": "code",
   "execution_count": 47,
   "id": "ea305921-199b-4e9c-9d38-6d3611aff1d2",
   "metadata": {},
   "outputs": [
    {
     "name": "stdout",
     "output_type": "stream",
     "text": [
      "python Tensorflow/models/research/object_detection/exporter_main_v2.py --input_type=image_tensor --pipeline_config_path=Tensorflow/workspace/models/my_ssd_mobnet/pipeline.config --trained_checkpoint_dir=Tensorflow/workspace/models/my_ssd_mobnet --output_directory=Tensorflow/workspace/models/my_ssd_mobnet/export\n"
     ]
    }
   ],
   "source": [
    "print(f\"python {APIMODEL_PATH}/research/object_detection/exporter_main_v2.py --input_type=image_tensor --pipeline_config_path={CONFIG_PATH} --trained_checkpoint_dir={SSD_MOBNET} --output_directory={SSD_MOBNET}/export\")"
   ]
  },
  {
   "cell_type": "markdown",
   "id": "b881d612-1597-4681-955b-4f43d1ecc088",
   "metadata": {},
   "source": [
    "# 10. Convert to TFJS model"
   ]
  },
  {
   "cell_type": "code",
   "execution_count": 51,
   "id": "7cc5e559-6575-4613-b21d-feb8346c4233",
   "metadata": {},
   "outputs": [
    {
     "name": "stdout",
     "output_type": "stream",
     "text": [
      "Collecting PyYAML==5.3.1\n",
      "  Using cached PyYAML-5.3.1-cp39-cp39-macosx_10_9_x86_64.whl\n",
      "Installing collected packages: PyYAML\n",
      "  Attempting uninstall: PyYAML\n",
      "    Found existing installation: PyYAML 6.0.1\n",
      "    Uninstalling PyYAML-6.0.1:\n",
      "      Successfully uninstalled PyYAML-6.0.1\n",
      "\u001b[31mERROR: pip's dependency resolver does not currently take into account all the packages that are installed. This behaviour is the source of the following dependency conflicts.\n",
      "flax 0.6.2 requires PyYAML>=5.4.1, but you have pyyaml 5.3.1 which is incompatible.\u001b[0m\u001b[31m\n",
      "\u001b[0mSuccessfully installed PyYAML-5.3.1\n",
      "\n",
      "\u001b[1m[\u001b[0m\u001b[34;49mnotice\u001b[0m\u001b[1;39;49m]\u001b[0m\u001b[39;49m A new release of pip is available: \u001b[0m\u001b[31;49m23.0.1\u001b[0m\u001b[39;49m -> \u001b[0m\u001b[32;49m23.2.1\u001b[0m\n",
      "\u001b[1m[\u001b[0m\u001b[34;49mnotice\u001b[0m\u001b[1;39;49m]\u001b[0m\u001b[39;49m To update, run: \u001b[0m\u001b[32;49mpip install --upgrade pip\u001b[0m\n"
     ]
    }
   ],
   "source": [
    "!pip install PyYAML==5.3.1"
   ]
  },
  {
   "cell_type": "code",
   "execution_count": 52,
   "id": "53fc1330-ccf8-451d-9a29-8fed3a19b2cf",
   "metadata": {},
   "outputs": [
    {
     "name": "stdout",
     "output_type": "stream",
     "text": [
      "Requirement already satisfied: tensorflowjs in ./venv/signDetection2/lib/python3.9/site-packages (4.10.0)\n",
      "Requirement already satisfied: tensorflow<3,>=2.12.0 in ./venv/signDetection2/lib/python3.9/site-packages (from tensorflowjs) (2.13.0)\n",
      "Requirement already satisfied: importlib_resources>=5.9.0 in ./venv/signDetection2/lib/python3.9/site-packages (from tensorflowjs) (6.0.1)\n",
      "Requirement already satisfied: jax>=0.3.16 in ./venv/signDetection2/lib/python3.9/site-packages (from tensorflowjs) (0.4.14)\n",
      "Requirement already satisfied: tensorflow-hub>=0.13.0 in ./venv/signDetection2/lib/python3.9/site-packages (from tensorflowjs) (0.14.0)\n",
      "Requirement already satisfied: tensorflow-decision-forests>=1.3.0 in ./venv/signDetection2/lib/python3.9/site-packages (from tensorflowjs) (1.5.0)\n",
      "Requirement already satisfied: six<2,>=1.12.0 in ./venv/signDetection2/lib/python3.9/site-packages (from tensorflowjs) (1.16.0)\n",
      "Requirement already satisfied: packaging~=20.9 in ./venv/signDetection2/lib/python3.9/site-packages (from tensorflowjs) (20.9)\n",
      "Requirement already satisfied: flax<0.6.3,>=0.6.2 in ./venv/signDetection2/lib/python3.9/site-packages (from tensorflowjs) (0.6.2)\n",
      "Requirement already satisfied: tensorstore in ./venv/signDetection2/lib/python3.9/site-packages (from flax<0.6.3,>=0.6.2->tensorflowjs) (0.1.42)\n",
      "Requirement already satisfied: matplotlib in ./venv/signDetection2/lib/python3.9/site-packages (from flax<0.6.3,>=0.6.2->tensorflowjs) (3.7.2)\n",
      "Requirement already satisfied: optax in ./venv/signDetection2/lib/python3.9/site-packages (from flax<0.6.3,>=0.6.2->tensorflowjs) (0.1.7)\n",
      "Requirement already satisfied: rich>=11.1 in ./venv/signDetection2/lib/python3.9/site-packages (from flax<0.6.3,>=0.6.2->tensorflowjs) (13.5.2)\n",
      "Requirement already satisfied: msgpack in ./venv/signDetection2/lib/python3.9/site-packages (from flax<0.6.3,>=0.6.2->tensorflowjs) (1.0.5)\n",
      "Requirement already satisfied: typing-extensions>=4.1.1 in ./venv/signDetection2/lib/python3.9/site-packages (from flax<0.6.3,>=0.6.2->tensorflowjs) (4.5.0)\n",
      "Collecting PyYAML>=5.4.1\n",
      "  Using cached PyYAML-6.0.1-cp39-cp39-macosx_10_9_x86_64.whl (197 kB)\n",
      "Requirement already satisfied: numpy>=1.12 in ./venv/signDetection2/lib/python3.9/site-packages (from flax<0.6.3,>=0.6.2->tensorflowjs) (1.24.3)\n",
      "Requirement already satisfied: zipp>=3.1.0 in ./venv/signDetection2/lib/python3.9/site-packages (from importlib_resources>=5.9.0->tensorflowjs) (3.16.2)\n",
      "Requirement already satisfied: ml-dtypes>=0.2.0 in ./venv/signDetection2/lib/python3.9/site-packages (from jax>=0.3.16->tensorflowjs) (0.2.0)\n",
      "Requirement already satisfied: opt-einsum in ./venv/signDetection2/lib/python3.9/site-packages (from jax>=0.3.16->tensorflowjs) (3.3.0)\n",
      "Requirement already satisfied: importlib-metadata>=4.6 in ./venv/signDetection2/lib/python3.9/site-packages (from jax>=0.3.16->tensorflowjs) (6.8.0)\n",
      "Requirement already satisfied: scipy>=1.7 in ./venv/signDetection2/lib/python3.9/site-packages (from jax>=0.3.16->tensorflowjs) (1.11.2)\n",
      "Requirement already satisfied: pyparsing>=2.0.2 in ./venv/signDetection2/lib/python3.9/site-packages (from packaging~=20.9->tensorflowjs) (2.4.7)\n",
      "Requirement already satisfied: wrapt>=1.11.0 in ./venv/signDetection2/lib/python3.9/site-packages (from tensorflow<3,>=2.12.0->tensorflowjs) (1.15.0)\n",
      "Requirement already satisfied: h5py>=2.9.0 in ./venv/signDetection2/lib/python3.9/site-packages (from tensorflow<3,>=2.12.0->tensorflowjs) (3.9.0)\n",
      "Requirement already satisfied: astunparse>=1.6.0 in ./venv/signDetection2/lib/python3.9/site-packages (from tensorflow<3,>=2.12.0->tensorflowjs) (1.6.3)\n",
      "Requirement already satisfied: termcolor>=1.1.0 in ./venv/signDetection2/lib/python3.9/site-packages (from tensorflow<3,>=2.12.0->tensorflowjs) (2.3.0)\n",
      "Requirement already satisfied: protobuf!=4.21.0,!=4.21.1,!=4.21.2,!=4.21.3,!=4.21.4,!=4.21.5,<5.0.0dev,>=3.20.3 in ./venv/signDetection2/lib/python3.9/site-packages (from tensorflow<3,>=2.12.0->tensorflowjs) (3.20.3)\n",
      "Requirement already satisfied: gast<=0.4.0,>=0.2.1 in ./venv/signDetection2/lib/python3.9/site-packages (from tensorflow<3,>=2.12.0->tensorflowjs) (0.4.0)\n",
      "Requirement already satisfied: google-pasta>=0.1.1 in ./venv/signDetection2/lib/python3.9/site-packages (from tensorflow<3,>=2.12.0->tensorflowjs) (0.2.0)\n",
      "Requirement already satisfied: tensorboard<2.14,>=2.13 in ./venv/signDetection2/lib/python3.9/site-packages (from tensorflow<3,>=2.12.0->tensorflowjs) (2.13.0)\n",
      "Requirement already satisfied: grpcio<2.0,>=1.24.3 in ./venv/signDetection2/lib/python3.9/site-packages (from tensorflow<3,>=2.12.0->tensorflowjs) (1.57.0)\n",
      "Requirement already satisfied: flatbuffers>=23.1.21 in ./venv/signDetection2/lib/python3.9/site-packages (from tensorflow<3,>=2.12.0->tensorflowjs) (23.5.26)\n",
      "Requirement already satisfied: keras<2.14,>=2.13.1 in ./venv/signDetection2/lib/python3.9/site-packages (from tensorflow<3,>=2.12.0->tensorflowjs) (2.13.1)\n",
      "Requirement already satisfied: tensorflow-io-gcs-filesystem>=0.23.1 in ./venv/signDetection2/lib/python3.9/site-packages (from tensorflow<3,>=2.12.0->tensorflowjs) (0.33.0)\n",
      "Requirement already satisfied: absl-py>=1.0.0 in ./venv/signDetection2/lib/python3.9/site-packages (from tensorflow<3,>=2.12.0->tensorflowjs) (1.4.0)\n",
      "Requirement already satisfied: libclang>=13.0.0 in ./venv/signDetection2/lib/python3.9/site-packages (from tensorflow<3,>=2.12.0->tensorflowjs) (16.0.6)\n",
      "Requirement already satisfied: tensorflow-estimator<2.14,>=2.13.0 in ./venv/signDetection2/lib/python3.9/site-packages (from tensorflow<3,>=2.12.0->tensorflowjs) (2.13.0)\n",
      "Requirement already satisfied: setuptools in ./venv/signDetection2/lib/python3.9/site-packages (from tensorflow<3,>=2.12.0->tensorflowjs) (58.1.0)\n",
      "Requirement already satisfied: wheel in ./venv/signDetection2/lib/python3.9/site-packages (from tensorflow-decision-forests>=1.3.0->tensorflowjs) (0.41.2)\n",
      "Requirement already satisfied: pandas in ./venv/signDetection2/lib/python3.9/site-packages (from tensorflow-decision-forests>=1.3.0->tensorflowjs) (2.1.0)\n",
      "Requirement already satisfied: wurlitzer in ./venv/signDetection2/lib/python3.9/site-packages (from tensorflow-decision-forests>=1.3.0->tensorflowjs) (3.0.3)\n",
      "Requirement already satisfied: pygments<3.0.0,>=2.13.0 in ./venv/signDetection2/lib/python3.9/site-packages (from rich>=11.1->flax<0.6.3,>=0.6.2->tensorflowjs) (2.16.1)\n",
      "Requirement already satisfied: markdown-it-py>=2.2.0 in ./venv/signDetection2/lib/python3.9/site-packages (from rich>=11.1->flax<0.6.3,>=0.6.2->tensorflowjs) (3.0.0)\n",
      "Requirement already satisfied: markdown>=2.6.8 in ./venv/signDetection2/lib/python3.9/site-packages (from tensorboard<2.14,>=2.13->tensorflow<3,>=2.12.0->tensorflowjs) (3.4.4)\n",
      "Requirement already satisfied: werkzeug>=1.0.1 in ./venv/signDetection2/lib/python3.9/site-packages (from tensorboard<2.14,>=2.13->tensorflow<3,>=2.12.0->tensorflowjs) (2.3.7)\n",
      "Requirement already satisfied: google-auth-oauthlib<1.1,>=0.5 in ./venv/signDetection2/lib/python3.9/site-packages (from tensorboard<2.14,>=2.13->tensorflow<3,>=2.12.0->tensorflowjs) (1.0.0)\n",
      "Requirement already satisfied: tensorboard-data-server<0.8.0,>=0.7.0 in ./venv/signDetection2/lib/python3.9/site-packages (from tensorboard<2.14,>=2.13->tensorflow<3,>=2.12.0->tensorflowjs) (0.7.1)\n",
      "Requirement already satisfied: requests<3,>=2.21.0 in ./venv/signDetection2/lib/python3.9/site-packages (from tensorboard<2.14,>=2.13->tensorflow<3,>=2.12.0->tensorflowjs) (2.31.0)\n",
      "Requirement already satisfied: google-auth<3,>=1.6.3 in ./venv/signDetection2/lib/python3.9/site-packages (from tensorboard<2.14,>=2.13->tensorflow<3,>=2.12.0->tensorflowjs) (2.22.0)\n",
      "Requirement already satisfied: kiwisolver>=1.0.1 in ./venv/signDetection2/lib/python3.9/site-packages (from matplotlib->flax<0.6.3,>=0.6.2->tensorflowjs) (1.4.5)\n",
      "Requirement already satisfied: python-dateutil>=2.7 in ./venv/signDetection2/lib/python3.9/site-packages (from matplotlib->flax<0.6.3,>=0.6.2->tensorflowjs) (2.8.2)\n",
      "Requirement already satisfied: pillow>=6.2.0 in ./venv/signDetection2/lib/python3.9/site-packages (from matplotlib->flax<0.6.3,>=0.6.2->tensorflowjs) (10.0.0)\n",
      "Requirement already satisfied: contourpy>=1.0.1 in ./venv/signDetection2/lib/python3.9/site-packages (from matplotlib->flax<0.6.3,>=0.6.2->tensorflowjs) (1.1.0)\n",
      "Requirement already satisfied: cycler>=0.10 in ./venv/signDetection2/lib/python3.9/site-packages (from matplotlib->flax<0.6.3,>=0.6.2->tensorflowjs) (0.11.0)\n",
      "Requirement already satisfied: fonttools>=4.22.0 in ./venv/signDetection2/lib/python3.9/site-packages (from matplotlib->flax<0.6.3,>=0.6.2->tensorflowjs) (4.42.1)\n",
      "Requirement already satisfied: chex>=0.1.5 in ./venv/signDetection2/lib/python3.9/site-packages (from optax->flax<0.6.3,>=0.6.2->tensorflowjs) (0.1.7)\n",
      "Requirement already satisfied: jaxlib>=0.1.37 in ./venv/signDetection2/lib/python3.9/site-packages (from optax->flax<0.6.3,>=0.6.2->tensorflowjs) (0.4.14)\n",
      "Requirement already satisfied: pytz>=2020.1 in ./venv/signDetection2/lib/python3.9/site-packages (from pandas->tensorflow-decision-forests>=1.3.0->tensorflowjs) (2023.3.post1)\n",
      "Requirement already satisfied: tzdata>=2022.1 in ./venv/signDetection2/lib/python3.9/site-packages (from pandas->tensorflow-decision-forests>=1.3.0->tensorflowjs) (2023.3)\n",
      "Requirement already satisfied: dm-tree>=0.1.5 in ./venv/signDetection2/lib/python3.9/site-packages (from chex>=0.1.5->optax->flax<0.6.3,>=0.6.2->tensorflowjs) (0.1.8)\n",
      "Requirement already satisfied: toolz>=0.9.0 in ./venv/signDetection2/lib/python3.9/site-packages (from chex>=0.1.5->optax->flax<0.6.3,>=0.6.2->tensorflowjs) (0.12.0)\n",
      "Requirement already satisfied: cachetools<6.0,>=2.0.0 in ./venv/signDetection2/lib/python3.9/site-packages (from google-auth<3,>=1.6.3->tensorboard<2.14,>=2.13->tensorflow<3,>=2.12.0->tensorflowjs) (5.3.1)\n",
      "Requirement already satisfied: rsa<5,>=3.1.4 in ./venv/signDetection2/lib/python3.9/site-packages (from google-auth<3,>=1.6.3->tensorboard<2.14,>=2.13->tensorflow<3,>=2.12.0->tensorflowjs) (4.9)\n",
      "Requirement already satisfied: urllib3<2.0 in ./venv/signDetection2/lib/python3.9/site-packages (from google-auth<3,>=1.6.3->tensorboard<2.14,>=2.13->tensorflow<3,>=2.12.0->tensorflowjs) (1.26.16)\n",
      "Requirement already satisfied: pyasn1-modules>=0.2.1 in ./venv/signDetection2/lib/python3.9/site-packages (from google-auth<3,>=1.6.3->tensorboard<2.14,>=2.13->tensorflow<3,>=2.12.0->tensorflowjs) (0.3.0)\n",
      "Requirement already satisfied: requests-oauthlib>=0.7.0 in ./venv/signDetection2/lib/python3.9/site-packages (from google-auth-oauthlib<1.1,>=0.5->tensorboard<2.14,>=2.13->tensorflow<3,>=2.12.0->tensorflowjs) (1.3.1)\n",
      "Requirement already satisfied: mdurl~=0.1 in ./venv/signDetection2/lib/python3.9/site-packages (from markdown-it-py>=2.2.0->rich>=11.1->flax<0.6.3,>=0.6.2->tensorflowjs) (0.1.2)\n",
      "Requirement already satisfied: certifi>=2017.4.17 in ./venv/signDetection2/lib/python3.9/site-packages (from requests<3,>=2.21.0->tensorboard<2.14,>=2.13->tensorflow<3,>=2.12.0->tensorflowjs) (2023.7.22)\n",
      "Requirement already satisfied: charset-normalizer<4,>=2 in ./venv/signDetection2/lib/python3.9/site-packages (from requests<3,>=2.21.0->tensorboard<2.14,>=2.13->tensorflow<3,>=2.12.0->tensorflowjs) (3.2.0)\n",
      "Requirement already satisfied: idna<4,>=2.5 in ./venv/signDetection2/lib/python3.9/site-packages (from requests<3,>=2.21.0->tensorboard<2.14,>=2.13->tensorflow<3,>=2.12.0->tensorflowjs) (3.4)\n",
      "Requirement already satisfied: MarkupSafe>=2.1.1 in ./venv/signDetection2/lib/python3.9/site-packages (from werkzeug>=1.0.1->tensorboard<2.14,>=2.13->tensorflow<3,>=2.12.0->tensorflowjs) (2.1.3)\n",
      "Requirement already satisfied: pyasn1<0.6.0,>=0.4.6 in ./venv/signDetection2/lib/python3.9/site-packages (from pyasn1-modules>=0.2.1->google-auth<3,>=1.6.3->tensorboard<2.14,>=2.13->tensorflow<3,>=2.12.0->tensorflowjs) (0.5.0)\n",
      "Requirement already satisfied: oauthlib>=3.0.0 in ./venv/signDetection2/lib/python3.9/site-packages (from requests-oauthlib>=0.7.0->google-auth-oauthlib<1.1,>=0.5->tensorboard<2.14,>=2.13->tensorflow<3,>=2.12.0->tensorflowjs) (3.2.2)\n",
      "Installing collected packages: PyYAML\n",
      "  Attempting uninstall: PyYAML\n",
      "    Found existing installation: PyYAML 5.3.1\n",
      "    Uninstalling PyYAML-5.3.1:\n",
      "      Successfully uninstalled PyYAML-5.3.1\n",
      "\u001b[31mERROR: pip's dependency resolver does not currently take into account all the packages that are installed. This behaviour is the source of the following dependency conflicts.\n",
      "tf-models-official 2.13.1 requires pyyaml<5.4.0,>=5.1, but you have pyyaml 6.0.1 which is incompatible.\u001b[0m\u001b[31m\n",
      "\u001b[0mSuccessfully installed PyYAML-6.0.1\n",
      "\n",
      "\u001b[1m[\u001b[0m\u001b[34;49mnotice\u001b[0m\u001b[1;39;49m]\u001b[0m\u001b[39;49m A new release of pip is available: \u001b[0m\u001b[31;49m23.0.1\u001b[0m\u001b[39;49m -> \u001b[0m\u001b[32;49m23.2.1\u001b[0m\n",
      "\u001b[1m[\u001b[0m\u001b[34;49mnotice\u001b[0m\u001b[1;39;49m]\u001b[0m\u001b[39;49m To update, run: \u001b[0m\u001b[32;49mpip install --upgrade pip\u001b[0m\n"
     ]
    }
   ],
   "source": [
    "!pip install tensorflowjs"
   ]
  },
  {
   "cell_type": "code",
   "execution_count": 54,
   "id": "0f388b96-5ae1-4f91-9272-a0ebab7a79f9",
   "metadata": {},
   "outputs": [
    {
     "name": "stdout",
     "output_type": "stream",
     "text": [
      "tensorflowjs_converter --input_format=tf_saved_model --output_node_names='detection_boxes,detection_classes,detection_features,detection_multiclass_scores,detection_scores,num_detections,raw_detection_boxes,raw_detection_scores' --output_format=tfjs_graph_model --signature_name=serving_default Tensorflow/workspace/models/my_ssd_mobnet/export/saved_model Tensorflow/workspace/models/my_ssd_mobnet/converted\n"
     ]
    }
   ],
   "source": [
    "print(f\"tensorflowjs_converter --input_format=tf_saved_model --output_node_names='detection_boxes,detection_classes,detection_features,detection_multiclass_scores,detection_scores,num_detections,raw_detection_boxes,raw_detection_scores' --output_format=tfjs_graph_model --signature_name=serving_default {SSD_MOBNET}/export/saved_model {SSD_MOBNET}/converted\")"
   ]
  },
  {
   "cell_type": "code",
   "execution_count": null,
   "id": "2d5b56cd-4c8a-48a9-8346-3ca36b24a555",
   "metadata": {},
   "outputs": [],
   "source": []
  }
 ],
 "metadata": {
  "kernelspec": {
   "display_name": "signDetection2",
   "language": "python",
   "name": "signdetection2"
  },
  "language_info": {
   "codemirror_mode": {
    "name": "ipython",
    "version": 3
   },
   "file_extension": ".py",
   "mimetype": "text/x-python",
   "name": "python",
   "nbconvert_exporter": "python",
   "pygments_lexer": "ipython3",
   "version": "3.9.17"
  },
  "widgets": {
   "application/vnd.jupyter.widget-state+json": {
    "state": {},
    "version_major": 2,
    "version_minor": 0
   }
  }
 },
 "nbformat": 4,
 "nbformat_minor": 5
}
